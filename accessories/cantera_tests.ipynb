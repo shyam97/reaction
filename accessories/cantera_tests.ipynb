{
 "cells": [
  {
   "cell_type": "code",
   "execution_count": 2,
   "metadata": {},
   "outputs": [],
   "source": [
    "import numpy as np\n",
    "import cantera as ct"
   ]
  },
  {
   "cell_type": "code",
   "execution_count": 3,
   "metadata": {},
   "outputs": [],
   "source": [
    "gas1 = ct.Solution('air_iron3.yaml')"
   ]
  },
  {
   "cell_type": "code",
   "execution_count": 60,
   "metadata": {},
   "outputs": [
    {
     "name": "stdout",
     "output_type": "stream",
     "text": [
      "\n",
      "  air:\n",
      "\n",
      "       temperature   333 K\n",
      "          pressure   1.0133e+05 Pa\n",
      "           density   1.0558 kg/m^3\n",
      "  mean mol. weight   28.849 kg/kmol\n",
      "   phase of matter   gas\n",
      "\n",
      "                          1 kg             1 kmol     \n",
      "                     ---------------   ---------------\n",
      "          enthalpy             35286         1.018e+06  J\n",
      "   internal energy            -60687       -1.7507e+06  J\n",
      "           entropy              7000        2.0194e+05  J/K\n",
      "    Gibbs function       -2.2957e+06       -6.6229e+07  J\n",
      " heat capacity c_p            1013.8             29247  J/K\n",
      " heat capacity c_v             725.6             20932  J/K\n",
      "\n",
      "                      mass frac. Y      mole frac. X     chem. pot. / RT\n",
      "                     ---------------   ---------------   ---------------\n",
      "                O2           0.23237            0.2095           -26.258\n",
      "                N2           0.76763            0.7905           -23.301\n",
      "     [   +9 minor]                 0                 0  \n",
      "\n"
     ]
    }
   ],
   "source": [
    "X_O2 = 0.2095\n",
    "gas1.TPX = 333, 101325, {'O2':X_O2,'N2':1-X_O2}\n",
    "gas1()"
   ]
  },
  {
   "cell_type": "code",
   "execution_count": 62,
   "metadata": {},
   "outputs": [
    {
     "ename": "SyntaxError",
     "evalue": "closing parenthesis ')' does not match opening parenthesis '[' (4284694376.py, line 1)",
     "output_type": "error",
     "traceback": [
      "\u001b[0;36m  File \u001b[0;32m\"/tmp/ipykernel_112082/4284694376.py\"\u001b[0;36m, line \u001b[0;32m1\u001b[0m\n\u001b[0;31m    gas1.mix_diff_coeffs[gas1.species_index'O2')]\u001b[0m\n\u001b[0m                                               ^\u001b[0m\n\u001b[0;31mSyntaxError\u001b[0m\u001b[0;31m:\u001b[0m closing parenthesis ')' does not match opening parenthesis '['\n"
     ]
    }
   ],
   "source": [
    "gas1.mix_diff_coeffs[gas1.species_index'O2']"
   ]
  },
  {
   "cell_type": "code",
   "execution_count": 18,
   "metadata": {},
   "outputs": [
    {
     "name": "stdout",
     "output_type": "stream",
     "text": [
      "<built-in method species of Solution object at 0x7f2e99760af0>\n",
      "O 0\n",
      "O2 1\n",
      "N 2\n",
      "NO 3\n",
      "NO2 4\n",
      "N2O 5\n",
      "N2 6\n",
      "AR 7\n",
      "He 8\n",
      "Fe 9\n",
      "FeO 10\n"
     ]
    }
   ],
   "source": [
    "print(gas1.species)\n",
    "for i in range(gas1.n_species):\n",
    "    print(gas1.species_name(i),gas1.species_index(i))"
   ]
  },
  {
   "cell_type": "code",
   "execution_count": 28,
   "metadata": {},
   "outputs": [],
   "source": [
    "X_O2 = 0.2095\n",
    "W_O2 = 32e-3\n",
    "X_N2 = 1 - X_O2\n",
    "W_N2 = 28e-3\n",
    "\n",
    "M_O2 = X_O2*W_O2\n",
    "M_N2 = X_N2*W_N2\n",
    "\n",
    "Y_O2 = M_O2 / (M_O2 + M_N2)\n",
    "Y_N2 = 1 - Y_O2\n",
    "\n",
    "ygas = np.zeros(gas1.n_species)\n",
    "\n",
    "ygas[gas1.species_index('O')] = Y_O2\n",
    "ygas[gas1.species_index('N')] = Y_N2\n"
   ]
  },
  {
   "cell_type": "code",
   "execution_count": 7,
   "metadata": {},
   "outputs": [],
   "source": [
    "gas1.TPY = 946.669, 101325, {'O2':0.2329, 'N2':0.7671}\n",
    "D = gas1.mix_diff_coeffs[gas1.species_index('O2')]"
   ]
  },
  {
   "cell_type": "code",
   "execution_count": 43,
   "metadata": {},
   "outputs": [
    {
     "name": "stdout",
     "output_type": "stream",
     "text": [
      "\n",
      "  air:\n",
      "\n",
      "       temperature   1200 K\n",
      "          pressure   1.0133e+05 Pa\n",
      "           density   0.14649 kg/m^3\n",
      "  mean mol. weight   14.425 kg/kmol\n",
      "   phase of matter   gas\n",
      "\n",
      "                          1 kg             1 kmol     \n",
      "                     ---------------   ---------------\n",
      "          enthalpy        3.0825e+07        4.4464e+08  J\n",
      "   internal energy        3.0134e+07        4.3466e+08  J\n",
      "           entropy             13052        1.8827e+05  J/K\n",
      "    Gibbs function        1.5163e+07        2.1872e+08  J\n",
      " heat capacity c_p            1443.6             20823  J/K\n",
      " heat capacity c_v            867.16             12508  J/K\n",
      "\n",
      "                      mass frac. Y      mole frac. X     chem. pot. / RT\n",
      "                     ---------------   ---------------   ---------------\n",
      "                 O           0.23247           0.20959            2.3959\n",
      "                 N           0.76753           0.79041              27.1\n",
      "     [   +9 minor]                 0                 0  \n",
      "\n"
     ]
    }
   ],
   "source": [
    "gas1.Y = {'O':Y_O2,'N':Y_N2}\n",
    "gas1()"
   ]
  },
  {
   "cell_type": "code",
   "execution_count": 38,
   "metadata": {},
   "outputs": [
    {
     "name": "stdout",
     "output_type": "stream",
     "text": [
      "0.0004360114906820596\n"
     ]
    }
   ],
   "source": [
    "test = gas1.mix_diff_coeffs[gas1.species_index('O')]\n",
    "print(test)"
   ]
  },
  {
   "cell_type": "code",
   "execution_count": 8,
   "metadata": {},
   "outputs": [
    {
     "name": "stdout",
     "output_type": "stream",
     "text": [
      "-228918.55156569812\n"
     ]
    }
   ],
   "source": [
    "from functions import *\n",
    "\n",
    "print()\n",
    "print(FeO_data('h',1000))"
   ]
  },
  {
   "cell_type": "code",
   "execution_count": 12,
   "metadata": {},
   "outputs": [
    {
     "name": "stdout",
     "output_type": "stream",
     "text": [
      "[[1 2]\n",
      " [3 4]]\n",
      "[[2]\n",
      " [4]]\n"
     ]
    }
   ],
   "source": [
    "array = np.array([[1,2],[3,4]])\n",
    "print(array)\n",
    "\n",
    "array = np.delete(array,0,1)\n",
    "print(array)"
   ]
  }
 ],
 "metadata": {
  "kernelspec": {
   "display_name": "Python 3",
   "language": "python",
   "name": "python3"
  },
  "language_info": {
   "codemirror_mode": {
    "name": "ipython",
    "version": 3
   },
   "file_extension": ".py",
   "mimetype": "text/x-python",
   "name": "python",
   "nbconvert_exporter": "python",
   "pygments_lexer": "ipython3",
   "version": "3.10.6"
  },
  "orig_nbformat": 4
 },
 "nbformat": 4,
 "nbformat_minor": 2
}
